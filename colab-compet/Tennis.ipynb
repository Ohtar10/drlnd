{
 "cells": [
  {
   "cell_type": "markdown",
   "source": [
    "# Collaboration and Competition\n",
    "\n",
    "---\n",
    "\n",
    "In this notebook, you will learn how to use the Unity ML-Agents environment for the third project of the [Deep Reinforcement Learning Nanodegree](https://www.udacity.com/course/deep-reinforcement-learning-nanodegree--nd893) program.\n",
    "\n",
    "### 1. Start the Environment\n",
    "\n",
    "We begin by importing the necessary packages.  If the code cell below returns an error, please revisit the project instructions to double-check that you have installed [Unity ML-Agents](https://github.com/Unity-Technologies/ml-agents/blob/master/docs/Installation.md) and [NumPy](http://www.numpy.org/)."
   ],
   "metadata": {}
  },
  {
   "cell_type": "code",
   "execution_count": 1,
   "source": [
    "from unityagents import UnityEnvironment\n",
    "import numpy as np"
   ],
   "outputs": [],
   "metadata": {}
  },
  {
   "cell_type": "markdown",
   "source": [
    "Next, we will start the environment!  **_Before running the code cell below_**, change the `file_name` parameter to match the location of the Unity environment that you downloaded.\n",
    "\n",
    "- **Mac**: `\"path/to/Tennis.app\"`\n",
    "- **Windows** (x86): `\"path/to/Tennis_Windows_x86/Tennis.exe\"`\n",
    "- **Windows** (x86_64): `\"path/to/Tennis_Windows_x86_64/Tennis.exe\"`\n",
    "- **Linux** (x86): `\"path/to/Tennis_Linux/Tennis.x86\"`\n",
    "- **Linux** (x86_64): `\"path/to/Tennis_Linux/Tennis.x86_64\"`\n",
    "- **Linux** (x86, headless): `\"path/to/Tennis_Linux_NoVis/Tennis.x86\"`\n",
    "- **Linux** (x86_64, headless): `\"path/to/Tennis_Linux_NoVis/Tennis.x86_64\"`\n",
    "\n",
    "For instance, if you are using a Mac, then you downloaded `Tennis.app`.  If this file is in the same folder as the notebook, then the line below should appear as follows:\n",
    "```\n",
    "env = UnityEnvironment(file_name=\"Tennis.app\")\n",
    "```"
   ],
   "metadata": {}
  },
  {
   "cell_type": "code",
   "execution_count": 2,
   "source": [
    "env = UnityEnvironment(file_name=\"./Tennis_Linux/Tennis.x86_64\")"
   ],
   "outputs": [
    {
     "output_type": "stream",
     "name": "stderr",
     "text": [
      "INFO:unityagents:\n",
      "'Academy' started successfully!\n",
      "Unity Academy name: Academy\n",
      "        Number of Brains: 1\n",
      "        Number of External Brains : 1\n",
      "        Lesson number : 0\n",
      "        Reset Parameters :\n",
      "\t\t\n",
      "Unity brain name: TennisBrain\n",
      "        Number of Visual Observations (per agent): 0\n",
      "        Vector Observation space type: continuous\n",
      "        Vector Observation space size (per agent): 8\n",
      "        Number of stacked Vector Observation: 3\n",
      "        Vector Action space type: continuous\n",
      "        Vector Action space size (per agent): 2\n",
      "        Vector Action descriptions: , \n"
     ]
    }
   ],
   "metadata": {}
  },
  {
   "cell_type": "markdown",
   "source": [
    "Environments contain **_brains_** which are responsible for deciding the actions of their associated agents. Here we check for the first brain available, and set it as the default brain we will be controlling from Python."
   ],
   "metadata": {}
  },
  {
   "cell_type": "code",
   "execution_count": 3,
   "source": [
    "# get the default brain\n",
    "brain_name = env.brain_names[0]\n",
    "brain = env.brains[brain_name]"
   ],
   "outputs": [],
   "metadata": {}
  },
  {
   "cell_type": "markdown",
   "source": [
    "### 2. Examine the State and Action Spaces\n",
    "\n",
    "In this environment, two agents control rackets to bounce a ball over a net. If an agent hits the ball over the net, it receives a reward of +0.1.  If an agent lets a ball hit the ground or hits the ball out of bounds, it receives a reward of -0.01.  Thus, the goal of each agent is to keep the ball in play.\n",
    "\n",
    "The observation space consists of 8 variables corresponding to the position and velocity of the ball and racket. Two continuous actions are available, corresponding to movement toward (or away from) the net, and jumping. \n",
    "\n",
    "Run the code cell below to print some information about the environment."
   ],
   "metadata": {}
  },
  {
   "cell_type": "code",
   "execution_count": 4,
   "source": [
    "# reset the environment\n",
    "env_info = env.reset(train_mode=True)[brain_name]\n",
    "\n",
    "# number of agents \n",
    "num_agents = len(env_info.agents)\n",
    "print('Number of agents:', num_agents)\n",
    "\n",
    "# size of each action\n",
    "action_size = brain.vector_action_space_size\n",
    "print('Size of each action:', action_size)\n",
    "\n",
    "# examine the state space \n",
    "states = env_info.vector_observations\n",
    "state_size = states.shape[1]\n",
    "print('There are {} agents. Each observes a state with length: {}'.format(states.shape[0], state_size))\n",
    "print('The state for the first agent looks like:', states[0])"
   ],
   "outputs": [
    {
     "output_type": "stream",
     "name": "stdout",
     "text": [
      "Number of agents: 2\n",
      "Size of each action: 2\n",
      "There are 2 agents. Each observes a state with length: 24\n",
      "The state for the first agent looks like: [ 0.          0.          0.          0.          0.          0.\n",
      "  0.          0.          0.          0.          0.          0.\n",
      "  0.          0.          0.          0.         -6.65278625 -1.5\n",
      " -0.          0.          6.83172083  6.         -0.          0.        ]\n"
     ]
    }
   ],
   "metadata": {}
  },
  {
   "cell_type": "markdown",
   "source": [
    "### 3. Take Random Actions in the Environment\n",
    "\n",
    "In the next code cell, you will learn how to use the Python API to control the agents and receive feedback from the environment.\n",
    "\n",
    "Once this cell is executed, you will watch the agents' performance, if they select actions at random with each time step.  A window should pop up that allows you to observe the agents.\n",
    "\n",
    "Of course, as part of the project, you'll have to change the code so that the agents are able to use their experiences to gradually choose better actions when interacting with the environment!"
   ],
   "metadata": {}
  },
  {
   "cell_type": "code",
   "execution_count": 5,
   "source": [
    "for i in range(1, 6):                                      # play game for 5 episodes\n",
    "    env_info = env.reset(train_mode=False)[brain_name]     # reset the environment    \n",
    "    states = env_info.vector_observations                  # get the current state (for each agent)\n",
    "    scores = np.zeros(num_agents)                          # initialize the score (for each agent)\n",
    "    while True:\n",
    "        actions = np.random.randn(num_agents, action_size) # select an action (for each agent)\n",
    "        actions = np.clip(actions, -1, 1)                  # all actions between -1 and 1\n",
    "        env_info = env.step(actions)[brain_name]           # send all actions to tne environment\n",
    "        next_states = env_info.vector_observations         # get next state (for each agent)\n",
    "        rewards = env_info.rewards                         # get reward (for each agent)\n",
    "        dones = env_info.local_done                        # see if episode finished\n",
    "        scores += env_info.rewards                         # update the score (for each agent)\n",
    "        states = next_states                               # roll over states to next time step\n",
    "        if np.any(dones):                                  # exit loop if episode finished\n",
    "            break\n",
    "    print('Score (max over agents) from episode {}: {}'.format(i, np.max(scores)))"
   ],
   "outputs": [
    {
     "output_type": "stream",
     "name": "stdout",
     "text": [
      "Score (max over agents) from episode 1: 0.0\n",
      "Score (max over agents) from episode 2: 0.0\n",
      "Score (max over agents) from episode 3: 0.09000000171363354\n",
      "Score (max over agents) from episode 4: 0.0\n",
      "Score (max over agents) from episode 5: 0.09000000171363354\n"
     ]
    }
   ],
   "metadata": {}
  },
  {
   "cell_type": "markdown",
   "source": [
    "When finished, you can close the environment."
   ],
   "metadata": {}
  },
  {
   "cell_type": "code",
   "execution_count": 6,
   "source": [
    "# env.close()"
   ],
   "outputs": [],
   "metadata": {}
  },
  {
   "cell_type": "code",
   "execution_count": 7,
   "source": [
    "actions[0]"
   ],
   "outputs": [
    {
     "output_type": "execute_result",
     "data": {
      "text/plain": [
       "array([ 0.29014973, -0.40057816])"
      ]
     },
     "metadata": {},
     "execution_count": 7
    }
   ],
   "metadata": {}
  },
  {
   "cell_type": "markdown",
   "source": [
    "### 4. It's Your Turn!\n",
    "\n",
    "Now it's your turn to train your own agent to solve the environment!  When training the environment, set `train_mode=True`, so that the line for resetting the environment looks like the following:\n",
    "```python\n",
    "env_info = env.reset(train_mode=True)[brain_name]\n",
    "```"
   ],
   "metadata": {}
  },
  {
   "cell_type": "code",
   "execution_count": 8,
   "source": [
    "import random\n",
    "from collections import deque, namedtuple\n",
    "\n",
    "class ReplayBuffer:\n",
    "    \"\"\"Fixed-size buffer to store experience tuples.\"\"\"\n",
    "\n",
    "    def __init__(self, buffer_size, batch_size, seed, device):\n",
    "        \"\"\"Initialize a ReplayBuffer object.\n",
    "        Params\n",
    "        ======\n",
    "            buffer_size (int): maximum size of buffer\n",
    "            batch_size (int): size of each training batch\n",
    "        \"\"\"\n",
    "        self.memory = deque(maxlen=buffer_size)  # internal memory (deque)\n",
    "        self.batch_size = batch_size\n",
    "        self.experience = namedtuple(\"Experience\", field_names=[\"state\", \"action\", \"reward\", \"next_state\", \"done\"])\n",
    "        self.seed = random.seed(seed)\n",
    "        self.device = device\n",
    "    \n",
    "    def add(self, state, action, reward, next_state, done):\n",
    "        \"\"\"Add a new experience to memory.\"\"\"\n",
    "        e = self.experience(state, action, reward, next_state, done)\n",
    "        self.memory.append(e)\n",
    "    \n",
    "    def sample(self):\n",
    "        \"\"\"Randomly sample a batch of experiences from memory.\"\"\"\n",
    "        experiences = random.sample(self.memory, k=self.batch_size)\n",
    "\n",
    "        states = torch.from_numpy(np.vstack([np.expand_dims(e.state, axis=0) for e in experiences if e is not None])).float().to(self.device)\n",
    "        actions = torch.from_numpy(np.vstack([np.expand_dims(e.action, axis=0) for e in experiences if e is not None])).float().to(self.device)\n",
    "        rewards = torch.from_numpy(np.vstack([np.expand_dims(e.reward, axis=0) for e in experiences if e is not None])).float().to(self.device)\n",
    "        next_states = torch.from_numpy(np.vstack([np.expand_dims(e.next_state, axis=0) for e in experiences if e is not None])).float().to(self.device)\n",
    "        dones = torch.from_numpy(np.vstack([np.expand_dims(e.done, axis=0) for e in experiences if e is not None]).astype(np.uint8)).float().to(self.device)\n",
    "\n",
    "        return (states, actions, rewards, next_states, dones)\n",
    "\n",
    "    def __len__(self):\n",
    "        \"\"\"Return the current size of internal memory.\"\"\"\n",
    "        return len(self.memory)"
   ],
   "outputs": [],
   "metadata": {}
  },
  {
   "cell_type": "code",
   "execution_count": 9,
   "source": [
    "import copy\n",
    "\n",
    "class OUNoise:\n",
    "    \"\"\"Ornstein-Uhlenbeck process.\"\"\"\n",
    "\n",
    "    def __init__(self, size, seed, mu=0., theta=0.15, sigma=0.1):\n",
    "        \"\"\"Initialize parameters and noise process.\"\"\"\n",
    "        self.mu = mu * np.ones(size)\n",
    "        self.theta = theta\n",
    "        self.sigma = sigma\n",
    "        self.seed = random.seed(seed)\n",
    "        self.reset()\n",
    "\n",
    "    def reset(self):\n",
    "        \"\"\"Reset the internal state (= noise) to mean (mu).\"\"\"\n",
    "        self.state = copy.copy(self.mu)\n",
    "\n",
    "    def sample(self):\n",
    "        \"\"\"Update internal state and return it as a noise sample.\"\"\"\n",
    "        x = self.state\n",
    "        # dx = self.theta * (self.mu - x) + self.sigma * np.array([random.random() for i in range(len(x))])\n",
    "        dx = self.theta * (self.mu - x) + self.sigma * np.random.randn(len(x))\n",
    "        self.state = x + dx\n",
    "        return self.state"
   ],
   "outputs": [],
   "metadata": {}
  },
  {
   "cell_type": "code",
   "execution_count": 10,
   "source": [
    "# https://github.com/ikostrikov/pytorch-ddpg-naf/blob/master/ddpg.py#L11\n",
    "def soft_update(target, source, tau):\n",
    "    \"\"\"\n",
    "    Perform DDPG soft update (move target params toward source based on weight\n",
    "    factor tau)\n",
    "    Inputs:\n",
    "        target (torch.nn.Module): Net to copy parameters to\n",
    "        source (torch.nn.Module): Net whose parameters to copy\n",
    "        tau (float, 0 < x < 1): Weight factor for update\n",
    "    \"\"\"\n",
    "    for target_param, param in zip(target.parameters(), source.parameters()):\n",
    "        target_param.data.copy_(target_param.data * (1.0 - tau) + param.data * tau)\n",
    "\n",
    "# https://github.com/ikostrikov/pytorch-ddpg-naf/blob/master/ddpg.py#L15\n",
    "def hard_update(target, source):\n",
    "    \"\"\"\n",
    "    Copy network parameters from source to target\n",
    "    Inputs:\n",
    "        target (torch.nn.Module): Net to copy parameters to\n",
    "        source (torch.nn.Module): Net whose parameters to copy\n",
    "    \"\"\"\n",
    "    for target_param, param in zip(target.parameters(), source.parameters()):\n",
    "        target_param.data.copy_(param.data)\n",
    "\n",
    "def hidden_init(layer):\n",
    "    fan_in = layer.weight.data.size()[0]\n",
    "    lim = 1. / np.sqrt(fan_in)\n",
    "    return (-lim, lim)"
   ],
   "outputs": [],
   "metadata": {}
  },
  {
   "cell_type": "code",
   "execution_count": 11,
   "source": [
    "import torch\n",
    "import torch.nn as nn\n",
    "import numpy as np\n",
    "\n",
    "\n",
    "class Network(nn.Module):\n",
    "    def __init__(\n",
    "        self, \n",
    "        in_size: int,\n",
    "        out_size: int,\n",
    "        fc1: int=256,\n",
    "        fc2: int=128,\n",
    "        is_actor: bool=True) -> None:\n",
    "\n",
    "        super().__init__()\n",
    "        self.fc1 = nn.Linear(in_size, fc1)\n",
    "        self.fc2 = nn.Linear(fc1, fc2)\n",
    "        self.fc3 = nn.Linear(fc2, out_size)\n",
    "        self.is_actor = is_actor\n",
    "    \n",
    "    def reset_parameters(self):\n",
    "        self.fc1.weight.data.uniform_(*hidden_init(self.fc1))\n",
    "        self.fc2.weight.data.uniform_(*hidden_init(self.fc2))\n",
    "        self.fc3.weight.data.uniform_(-1e-3, 1e-3)\n",
    "\n",
    "    def forward(self, x):\n",
    "        x = torch.relu(self.fc1(x))\n",
    "        x = torch.relu(self.fc2(x))\n",
    "        if self.is_actor:\n",
    "            return torch.tanh(self.fc3(x))\n",
    "        else:\n",
    "            return self.fc3(x)"
   ],
   "outputs": [],
   "metadata": {}
  },
  {
   "cell_type": "code",
   "execution_count": 12,
   "source": [
    "import torch.optim as optim\n",
    "\n",
    "class DDPGAgent:\n",
    "    def __init__(\n",
    "        self,\n",
    "        in_actor: int,\n",
    "        out_actor: int,\n",
    "        in_critic: int,\n",
    "        random_seed: int,\n",
    "        lr_actor: float = 5e-4,\n",
    "        lr_critic: float = 5e-4,\n",
    "        device: str = \"cpu\"\n",
    "        ) -> None:\n",
    "        \n",
    "        self.actor = Network(in_actor, out_actor, is_actor=True).to(device)\n",
    "        self.critic = Network(in_critic, 1, is_actor=False).to(device)\n",
    "        self.actor_target = Network(in_actor, out_actor, is_actor=True).to(device)\n",
    "        self.critic_target = Network(in_critic, 1, is_actor=False).to(device)\n",
    "\n",
    "        self.noise = OUNoise(out_actor, random_seed)\n",
    "\n",
    "        hard_update(self.actor_target, self.actor)\n",
    "        hard_update(self.critic_target, self.critic)\n",
    "\n",
    "        self.actor_optimizer = optim.Adam(self.actor.parameters(), lr=lr_actor)\n",
    "        self.critic_optimizer = optim.Adam(self.critic.parameters(), lr=lr_critic, weight_decay=1.e-5)\n",
    "\n",
    "        self.device = device\n",
    "        self.random_seed = random_seed\n",
    "\n",
    "    def act(self, obs, add_noise=True):\n",
    "        obs = torch.from_numpy(obs).float().to(self.device)\n",
    "        \n",
    "        self.actor.eval()\n",
    "        with torch.no_grad():\n",
    "            action = self.actor(obs).cpu().data.numpy()\n",
    "        self.actor.train()\n",
    "\n",
    "        if add_noise:\n",
    "            action += self.noise.sample()\n",
    "\n",
    "        return np.clip(action, -1, 1)\n",
    "\n",
    "    def target_act(self, obs, add_noise=True):\n",
    "        obs = torch.from_numpy(obs).float().to(self.device)\n",
    "        \n",
    "        self.actor.eval()\n",
    "        with torch.no_grad():\n",
    "            action = self.actor_target(obs).cpu().data.numpy()\n",
    "        self.actor.train()\n",
    "\n",
    "        if add_noise:\n",
    "            action += self.noise.sample()\n",
    "            \n",
    "        return np.clip(action, -1, 1)\n",
    "\n",
    "    def reset(self):\n",
    "        self.noise.reset()\n"
   ],
   "outputs": [],
   "metadata": {}
  },
  {
   "cell_type": "code",
   "execution_count": 13,
   "source": [
    "class MADDPG:\n",
    "    def __init__(\n",
    "        self, \n",
    "        in_actor: int,\n",
    "        out_actor: int,\n",
    "        in_critic: int,\n",
    "        random_seed: int,\n",
    "        buffer_size: int=int(1e6),\n",
    "        batch_size: int=128,\n",
    "        gamma: float=0.95, \n",
    "        tau: float=0.02,\n",
    "        lr_actor: float=1e-4,\n",
    "        lr_critic: float=1e-4,\n",
    "        device: str = \"cpu\"\n",
    "        ) -> None:\n",
    "\n",
    "        # For each agent in the environment\n",
    "        self.maddpg_agents = [\n",
    "            DDPGAgent(in_actor, out_actor, in_critic, random_seed=random_seed, device=device, lr_actor=lr_actor, lr_critic=lr_critic),\n",
    "            DDPGAgent(in_actor, out_actor, in_critic, random_seed=random_seed, device=device, lr_actor=lr_actor, lr_critic=lr_critic)\n",
    "        ]\n",
    "        self.num_agents = 2\n",
    "\n",
    "        self.memory = ReplayBuffer(buffer_size, batch_size, random_seed, device)\n",
    "\n",
    "        self.gamma = gamma\n",
    "        self.tau = tau\n",
    "        self.device = device\n",
    "        self.batch_size = batch_size\n",
    "\n",
    "    def get_actors(self):\n",
    "        return [agent.actor for agent in self.maddpg_agents]\n",
    "\n",
    "    def get_target_actors(self):\n",
    "        return [agent.target_act for agent in self.maddpg_agents]\n",
    "\n",
    "    def act(self, obs_all_agents, noise=0.0):\n",
    "        return [agent.act(obs, noise) for agent, obs in zip(self.maddpg_agents, obs_all_agents)]\n",
    "\n",
    "    def target_act(self, obs_all_agents, noise=0.0):\n",
    "        actions = [agent.target_act(obs_all_agents.numpy()) for agent in self.maddpg_agents]\n",
    "        actions = [torch.from_numpy(a) for a in actions]\n",
    "        return torch.stack(actions, dim=1)\n",
    "\n",
    "\n",
    "    def step(self, state, action, reward, next_state, done):\n",
    "        \"\"\"Save experience in replay memory, and use random sample from buffer to learn.\"\"\"\n",
    "        # Save experience / reward\n",
    "        self.memory.add(state, action, reward, next_state, done)\n",
    "\n",
    "        # Learn, if enough samples are available in memory\n",
    "        if len(self.memory) > self.batch_size:\n",
    "            experiences = self.memory.sample()\n",
    "            for i in range(len(self.maddpg_agents)):\n",
    "                self.learn(experiences, i)\n",
    "            self.update_targets()\n",
    "            \n",
    "\n",
    "    def learn(self, samples, agent_number):\n",
    "\n",
    "        obs_full, action, reward, next_obs_full, dones = samples\n",
    "\n",
    "        # obs = obs_full[:, agent_number, :]\n",
    "        obs = obs_full\n",
    "        next_obs = next_obs_full[:, agent_number, :]\n",
    "        \n",
    "        agent = self.maddpg_agents[agent_number]\n",
    "        agent.critic_optimizer.zero_grad()\n",
    "        target_actions = self.target_act(next_obs)\n",
    "\n",
    "        next_obs_full = next_obs_full.view(self.batch_size, self.num_agents * next_obs_full.shape[-1])\n",
    "        target_actions = target_actions.view(self.batch_size, self.num_agents * target_actions.shape[-1])\n",
    "        target_critic_input = torch.cat((next_obs_full, target_actions), dim=1).float().to(self.device)\n",
    "\n",
    "        with torch.no_grad():\n",
    "            q_next = agent.critic_target(target_critic_input)\n",
    "\n",
    "        \n",
    "        y = reward[:, agent_number, :].view(-1, 1) + self.gamma * q_next * (1 - dones[:, agent_number, :].view(-1, 1))\n",
    "\n",
    "        obs_full = obs_full.view(self.batch_size, self.num_agents * obs_full.shape[-1])\n",
    "        action = action.view(self.batch_size, self.num_agents * action.shape[-1])\n",
    "        critic_input = torch.cat((obs_full, action), dim=1).float().to(self.device)\n",
    "        q = agent.critic(critic_input)\n",
    "\n",
    "        huber_loss = torch.nn.SmoothL1Loss()\n",
    "        critic_loss = huber_loss(q, y.detach())\n",
    "        critic_loss.backward()\n",
    "        agent.critic_optimizer.step()\n",
    "\n",
    "        agent.actor_optimizer.zero_grad()\n",
    "        q_input = []\n",
    "        \n",
    "        for i in range(self.num_agents):\n",
    "            ob = obs[:, i, :]\n",
    "            if i == agent_number:\n",
    "                q_input.append(self.maddpg_agents[i].actor(ob))\n",
    "            else:\n",
    "                q_input.append(self.maddpg_agents[i].actor(ob).detach())\n",
    "\n",
    "        q_input = torch.cat(q_input, dim=1)\n",
    "        q_input = torch.cat((obs_full, q_input), dim=1)\n",
    "\n",
    "        actor_loss = -agent.critic(q_input).mean()\n",
    "        actor_loss.backward()\n",
    "        agent.actor_optimizer.step()\n",
    "\n",
    "    def update_targets(self):\n",
    "        \"\"\"soft update targets\"\"\"\n",
    "        for ddpg_agent in self.maddpg_agents:\n",
    "            soft_update(ddpg_agent.actor_target, ddpg_agent.actor, self.tau)\n",
    "            soft_update(ddpg_agent.critic_target, ddpg_agent.critic, self.tau)\n",
    "\n",
    "    def reset_noise(self):\n",
    "        for agent in self.maddpg_agents:\n",
    "            agent.reset()\n",
    "\n",
    "\n",
    "        "
   ],
   "outputs": [],
   "metadata": {}
  },
  {
   "cell_type": "code",
   "execution_count": 14,
   "source": [
    "from tqdm import tqdm\n",
    "\n",
    "def maddpg(\n",
    "    driver :MADDPG,\n",
    "    env,\n",
    "    n_episodes=1000, \n",
    "    max_t=300):\n",
    "    scores_window = deque(maxlen=100)\n",
    "    scores = []\n",
    "    with tqdm(total=n_episodes) as progress:\n",
    "        for i_episode in range(1, n_episodes+1):\n",
    "            env_info = env.reset(train_mode=True)[brain_name]\n",
    "            \n",
    "            states = env_info.vector_observations\n",
    "            num_agents = len(env_info.agents)\n",
    "            score = np.zeros(num_agents)\n",
    "            driver.reset_noise()\n",
    "            \n",
    "            for t in range(max_t):\n",
    "                actions = driver.act(states)\n",
    "                env_info = env.step(actions)[brain_name]\n",
    "                next_states = env_info.vector_observations\n",
    "                rewards = env_info.rewards\n",
    "                rewards = np.expand_dims(np.asanyarray(rewards), axis=1)\n",
    "                dones = env_info.local_done\n",
    "                dones = np.expand_dims(np.asanyarray(dones), axis=1)\n",
    "\n",
    "                driver.step(states, actions, rewards, next_states, dones)\n",
    "                states = next_states\n",
    "                score += np.squeeze(rewards)\n",
    "                if np.any(dones):\n",
    "                    break\n",
    "                \n",
    "            score = np.max(score) \n",
    "            scores_window.append(score)\n",
    "            scores.append(score)\n",
    "            \n",
    "            progress.set_postfix({\"Avg. Score\": f\"{np.mean(scores_window):.2f}\"})\n",
    "            progress.update()\n",
    "\n",
    "            if i_episode >=100 and np.mean(scores_window) >= 30.0:\n",
    "                print(f\"Environment solved at {i_episode} episodes with Avg. score: {np.mean(scores_window):.2f}\")\n",
    "                for i in range(num_agents):\n",
    "                    torch.save(driver.maddpg_agents[i].actor.state_dict(), f'./cp/agent-{i}-checkpoint_actor.pth')\n",
    "                    torch.save(driver.maddpg_agents[i].critic.state_dict(), f'./cp/agent-{i}-checkpoint_critic.pth')\n",
    "                break\n",
    "            \n",
    "    return scores"
   ],
   "outputs": [],
   "metadata": {}
  },
  {
   "cell_type": "code",
   "execution_count": 15,
   "source": [
    "device = \"cpu\"\n",
    "env_info = env.reset(train_mode=True)[brain_name]\n",
    "## Actor dims\n",
    "# it is a single actor observation space\n",
    "in_actor = env_info.vector_observations.shape[1]\n",
    "brain = env.brains[brain_name]\n",
    "out_actor = brain.vector_action_space_size\n",
    "num_agents = len(env_info.agents)\n",
    "# Critic dims\n",
    "# it is the full environment state + the action space of all agents combined\n",
    "in_critic = env_info.vector_observations.flatten().shape[0] + num_agents * out_actor\n",
    "driver = MADDPG(\n",
    "    in_actor=in_actor,\n",
    "    out_actor=out_actor,\n",
    "    in_critic=in_critic,\n",
    "    random_seed=123,\n",
    "    buffer_size=int(1e6),\n",
    "    batch_size=128,\n",
    "    gamma=0.95,\n",
    "    tau=1e-3,\n",
    "    lr_actor=5e-4,\n",
    "    lr_critic=5e-4,\n",
    "    device=device\n",
    ")\n",
    "\n",
    "scores = maddpg(driver, env, n_episodes=100, max_t=300)"
   ],
   "outputs": [
    {
     "output_type": "stream",
     "name": "stderr",
     "text": [
      "100%|██████████| 100/100 [00:26<00:00,  3.76it/s, Avg. Score=0.00]\n"
     ]
    }
   ],
   "metadata": {}
  },
  {
   "cell_type": "code",
   "execution_count": 17,
   "source": [
    "np.max(scores)"
   ],
   "outputs": [
    {
     "output_type": "execute_result",
     "data": {
      "text/plain": [
       "0.10000000149011612"
      ]
     },
     "metadata": {},
     "execution_count": 17
    }
   ],
   "metadata": {}
  },
  {
   "cell_type": "code",
   "execution_count": null,
   "source": [],
   "outputs": [],
   "metadata": {}
  }
 ],
 "metadata": {
  "kernelspec": {
   "name": "python3",
   "display_name": "Python 3.6.13 64-bit ('drlnd-colab-compet': conda)"
  },
  "language_info": {
   "codemirror_mode": {
    "name": "ipython",
    "version": 3
   },
   "file_extension": ".py",
   "mimetype": "text/x-python",
   "name": "python",
   "nbconvert_exporter": "python",
   "pygments_lexer": "ipython3",
   "version": "3.6.13"
  },
  "interpreter": {
   "hash": "7bd59f4d6fb7d127a58409fc8a017d5398e72fe2db05dc0012029a7164d0a709"
  }
 },
 "nbformat": 4,
 "nbformat_minor": 2
}